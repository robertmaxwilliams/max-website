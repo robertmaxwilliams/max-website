{
 "cells": [
  {
   "cell_type": "markdown",
   "metadata": {},
   "source": [
    "# Comparison Classification for Few Shot Learning MNIST\n",
    "\n",
    "The model is given two images and predicts whether they are of the same class or different. It is trained on digits 0, 1, 2, 3, 4, 5 and 6, and tested on 7, 8 and 9. It achieved 60-70% validation accuracy on the unseen numbers task during training, confusion-matrix-like plots are provided at the end with some analysis of its behavior.\n",
    "\n",
    "Go to the **evaluation** section for results."
   ]
  },
  {
   "cell_type": "code",
   "execution_count": 1,
   "metadata": {},
   "outputs": [
    {
     "name": "stderr",
     "output_type": "stream",
     "text": [
      "/usr/local/miniconda3/envs/testml/lib/python3.6/importlib/_bootstrap.py:219: RuntimeWarning: numpy.dtype size changed, may indicate binary incompatibility. Expected 96, got 88\n",
      "  return f(*args, **kwds)\n",
      "Using TensorFlow backend.\n",
      "/usr/local/miniconda3/envs/testml/lib/python3.6/importlib/_bootstrap.py:219: RuntimeWarning: numpy.dtype size changed, may indicate binary incompatibility. Expected 96, got 88\n",
      "  return f(*args, **kwds)\n",
      "/usr/local/miniconda3/envs/testml/lib/python3.6/importlib/_bootstrap.py:219: RuntimeWarning: numpy.dtype size changed, may indicate binary incompatibility. Expected 96, got 88\n",
      "  return f(*args, **kwds)\n"
     ]
    }
   ],
   "source": [
    "import numpy as np # linear algebra\n",
    "import matplotlib.pyplot as plt #for plotting\n",
    "\n",
    "from keras.models import Sequential, Model\n",
    "from keras.layers import Dense, Activation, Flatten, concatenate, Input\n",
    "from keras.optimizers import Adam\n",
    "from keras.layers import Dense, Dropout, Flatten, Conv2D, MaxPool2D\n",
    "from keras.layers.normalization import BatchNormalization"
   ]
  },
  {
   "cell_type": "code",
   "execution_count": 2,
   "metadata": {},
   "outputs": [],
   "source": [
    "%matplotlib inline"
   ]
  },
  {
   "cell_type": "markdown",
   "metadata": {},
   "source": [
    "# Data Mangling"
   ]
  },
  {
   "cell_type": "code",
   "execution_count": 3,
   "metadata": {},
   "outputs": [],
   "source": [
    "from keras.datasets import mnist\n",
    "(x_train, y_train), (x_test, y_test) = mnist.load_data()"
   ]
  },
  {
   "cell_type": "code",
   "execution_count": 4,
   "metadata": {},
   "outputs": [
    {
     "name": "stdout",
     "output_type": "stream",
     "text": [
      "0\n"
     ]
    },
    {
     "data": {
      "text/plain": [
       "<matplotlib.image.AxesImage at 0xb33b62da0>"
      ]
     },
     "execution_count": 4,
     "metadata": {},
     "output_type": "execute_result"
    },
    {
     "data": {
      "image/png": "[encoded data removed]",
      "text/plain": [
       "<Figure size 288x288 with 1 Axes>"
      ]
     },
     "metadata": {},
     "output_type": "display_data"
    },
    {
     "data": {
      "image/png": "[encoded data removed]",
      "text/plain": [
       "<Figure size 288x288 with 1 Axes>"
      ]
     },
     "metadata": {},
     "output_type": "display_data"
    }
   ],
   "source": [
    "# prepare dataset:\n",
    "# input is a pair of images, output is 1 if they are the same class, 0 if different class\n",
    "# also, have about 50/50 of same/not-same so accuracy is easier to understand\n",
    "# also, training data only has digits 0, 1, 2, 3, 4. Test can either be on those or on new digits.\n",
    "print(y_train[1])\n",
    "plt.matshow(x_train[1])\n",
    "plt.matshow(x_train[1])"
   ]
  },
  {
   "cell_type": "code",
   "execution_count": 47,
   "metadata": {},
   "outputs": [
    {
     "data": {
      "text/plain": [
       "{0: [1, 21, 34, 37],\n",
       " 1: [3, 6, 8, 14, 23, 24, 40],\n",
       " 2: [5, 16, 25, 28],\n",
       " 3: [7, 10, 12, 27, 30, 44, 49],\n",
       " 4: [2, 9, 20, 26],\n",
       " 5: [0, 11, 35, 47],\n",
       " 6: [13, 18, 32, 36, 39],\n",
       " 7: [15, 29, 38, 42],\n",
       " 8: [17, 31, 41, 46],\n",
       " 9: [4, 19, 22, 33, 43, 45, 48]}"
      ]
     },
     "execution_count": 47,
     "metadata": {},
     "output_type": "execute_result"
    }
   ],
   "source": [
    "def put_in_bins(labels):\n",
    "    bins = {i:list() for i in range(0, 10)}\n",
    "    for i, x in enumerate(labels):\n",
    "        bins[x].append(i)\n",
    "    return bins\n",
    "        \n",
    "put_in_bins(y_train[0:50])"
   ]
  },
  {
   "cell_type": "code",
   "execution_count": 6,
   "metadata": {},
   "outputs": [
    {
     "data": {
      "text/plain": [
       "[array([1, 2, 3]), array(['a', 'b', 'c'], dtype='<U1')]"
      ]
     },
     "execution_count": 6,
     "metadata": {},
     "output_type": "execute_result"
    }
   ],
   "source": [
    "def parallel_shuffle(list_of_arrays):\n",
    "    \" shuffles all the arrays (of same length) in the same way\"\n",
    "    length = list_of_arrays[0].shape[0]\n",
    "    \n",
    "    # check that all are the same length\n",
    "    for array in list_of_arrays:\n",
    "        assert array.shape[0] == length\n",
    "        \n",
    "    indices = np.random.permutation(length) # shuffle indices\n",
    "    output = list()\n",
    "    for array in list_of_arrays:\n",
    "        output.append(array[indices])\n",
    "    return output\n",
    "\n",
    "parallel_shuffle([np.array([1, 2, 3]), np.array(['a', 'b', 'c'])])"
   ]
  },
  {
   "cell_type": "code",
   "execution_count": 248,
   "metadata": {},
   "outputs": [
    {
     "name": "stdout",
     "output_type": "stream",
     "text": [
      "22\n",
      "vars:  21 14 0\n",
      "a class:  0\n",
      "b class:  1\n",
      "is_same:  0\n"
     ]
    },
    {
     "data": {
      "image/png": "[encoded data removed]",
      "text/plain": [
       "<Figure size 288x288 with 1 Axes>"
      ]
     },
     "metadata": {},
     "output_type": "display_data"
    },
    {
     "data": {
      "image/png": "[encoded data removed]",
      "text/plain": [
       "<Figure size 288x288 with 1 Axes>"
      ]
     },
     "metadata": {},
     "output_type": "display_data"
    }
   ],
   "source": [
    "# given array of labels, take each one with a random one in a different class, and a random on in the same class\n",
    "def build_dataset_indexes(labels, allowed_labels):\n",
    "    bins = put_in_bins(labels)\n",
    "    for label in allowed_labels:\n",
    "        for i in bins[label]:\n",
    "            yield i, np.random.choice(bins[label]), 1 # indexes of 2 image in same class\n",
    "            anything_but_label = np.random.choice([x for x in allowed_labels if x != label])\n",
    "            yield i, np.random.choice(bins[anything_but_label]), 0 # indexes of 2 images in different classes\n",
    "                \n",
    "            \n",
    "foo = list(build_dataset_indexes(y_train[0:50], [0, 1]))\n",
    "print(len(foo))\n",
    "a, b, is_same = foo[3]\n",
    "print(\"vars: \", a, b, is_same)\n",
    "plt.matshow(x_train[a])\n",
    "print(\"a class: \", y_train[a])\n",
    "\n",
    "plt.matshow(x_train[b])\n",
    "print(\"b class: \", y_train[b])\n",
    "\n",
    "print(\"is_same: \", is_same)"
   ]
  },
  {
   "cell_type": "code",
   "execution_count": 249,
   "metadata": {},
   "outputs": [
    {
     "data": {
      "text/plain": [
       "(5, 2, 2)"
      ]
     },
     "execution_count": 249,
     "metadata": {},
     "output_type": "execute_result"
    }
   ],
   "source": [
    "# not a good name, but I think of it as popping out the bottom level\n",
    "def pop_dims(arr):\n",
    "    \" Expands bottom dims, so a (100, 28, 28) array would become (100, 28, 28, 1)\"\n",
    "    return np.expand_dims(arr, axis=-1)\n",
    "def unpop_dims(arr):\n",
    "    \" removes bottom dim, for viewing ease\"\n",
    "    return np.squeeze(arr, axis=-1)\n",
    "\n",
    "foo = np.zeros((5, 2, 2))\n",
    "pop_dims(foo).shape\n",
    "unpop_dims(pop_dims(foo)).shape"
   ]
  },
  {
   "cell_type": "code",
   "execution_count": 261,
   "metadata": {},
   "outputs": [
    {
     "name": "stdout",
     "output_type": "stream",
     "text": [
      "[1 2]\n"
     ]
    },
    {
     "data": {
      "image/png": "[encoded data removed]",
      "text/plain": [
       "<Figure size 288x288 with 1 Axes>"
      ]
     },
     "metadata": {},
     "output_type": "display_data"
    },
    {
     "data": {
      "image/png": "[encoded data removed]",
      "text/plain": [
       "<Figure size 288x288 with 1 Axes>"
      ]
     },
     "metadata": {},
     "output_type": "display_data"
    }
   ],
   "source": [
    "def build_dataset(images, labels, allowed_labels):\n",
    "    left_images = list()\n",
    "    right_images = list()\n",
    "    labels_for_image_pairs = list()\n",
    "    original_labels = list()\n",
    "    for a_index, b_index, is_same in build_dataset_indexes(labels, allowed_labels):\n",
    "        left_images.append(images[a_index])\n",
    "        right_images.append(images[b_index])\n",
    "        labels_for_image_pairs.append(is_same)\n",
    "        original_labels.append([labels[a_index], labels[b_index]])\n",
    "    return parallel_shuffle([pop_dims(np.array(left_images)), \n",
    "            pop_dims(np.array(right_images)), \n",
    "            pop_dims(np.array(labels_for_image_pairs)),\n",
    "            np.array(original_labels)])\n",
    "        \n",
    "li, ri, labels, original_labels = build_dataset(x_train[0:50], y_train[0:50], [0, 1, 2])\n",
    "x = 0\n",
    "plt.matshow(unpop_dims(li[x]))\n",
    "plt.matshow(unpop_dims(ri[x]))\n",
    "print(original_labels[x])\n",
    "#print(labels[x])"
   ]
  },
  {
   "cell_type": "markdown",
   "metadata": {},
   "source": [
    "# Model Construction"
   ]
  },
  {
   "cell_type": "code",
   "execution_count": 262,
   "metadata": {},
   "outputs": [],
   "source": [
    "input_shape = (28, 28, 1)"
   ]
  },
  {
   "cell_type": "code",
   "execution_count": 263,
   "metadata": {},
   "outputs": [],
   "source": [
    "# compressor creates a lsr of the input image using a simple convnet\n",
    "\n",
    "# layers from here: https://www.kaggle.com/adityaecdrid/mnist-with-keras-for-beginners-99457\n",
    "compressor_layers1 = [\\\n",
    "    Conv2D(32, kernel_size=(3, 3),activation='relu',kernel_initializer='he_normal'),\n",
    "    Conv2D(32, kernel_size=(3, 3),activation='relu',kernel_initializer='he_normal'),\n",
    "    MaxPool2D((2, 2)),\n",
    "    Dropout(0.20),\n",
    "    Conv2D(64, (3, 3), activation='relu',padding='same',kernel_initializer='he_normal'),\n",
    "    Conv2D(64, (3, 3), activation='relu',padding='same',kernel_initializer='he_normal'),\n",
    "    MaxPool2D(pool_size=(2, 2)),\n",
    "    Dropout(0.25),\n",
    "    Conv2D(128, (3, 3), activation='relu',padding='same',kernel_initializer='he_normal'),\n",
    "    Dropout(0.25),\n",
    "    Flatten(),\n",
    "    Dense(128, activation='relu')]\n",
    "\n",
    "compressor_layers = [\\\n",
    "    Conv2D(2, kernel_size=(5, 5),activation='relu',kernel_initializer='he_normal'),\n",
    "    MaxPool2D((2, 2)),\n",
    "    Conv2D(4, (3, 3), activation='relu',padding='same',kernel_initializer='he_normal'),\n",
    "    MaxPool2D((2, 2)),\n",
    "    Dropout(0.25),\n",
    "   # Conv2D(16, (3, 3), activation='relu',padding='same',kernel_initializer='he_normal'),\n",
    "    Flatten(),\n",
    "    Dense(128, activation='relu')]\n",
    "def compressor_fun(frame):\n",
    "        x = frame\n",
    "        for layer in compressor_layers:\n",
    "            x = layer(x)\n",
    "        return x\n",
    "\n",
    "\n"
   ]
  },
  {
   "cell_type": "code",
   "execution_count": 264,
   "metadata": {},
   "outputs": [],
   "source": [
    "# is_same_class takes two lsrs and tells if they are the same o\n",
    "# or different class\n",
    "lsr_compare_layers = [Dense(16), Activation('relu'), \n",
    "        Dense(16), Activation('relu'),\n",
    "        Dense(16), Activation('linear'), # never have relu before sigmoid! Always positive! Bad!\n",
    "        Dense(16), Activation('linear'), # never have relu before sigmoid! Always positive! Bad!\n",
    "        Dense(1, kernel_initializer='normal', activation='sigmoid')]\n",
    "def lsr_compare(combined_lsr):\n",
    "        x = combined_lsr\n",
    "        for layer in lsr_compare_layers:\n",
    "            x = layer(x)\n",
    "        return x"
   ]
  },
  {
   "cell_type": "code",
   "execution_count": 265,
   "metadata": {
    "scrolled": true
   },
   "outputs": [
    {
     "name": "stdout",
     "output_type": "stream",
     "text": [
      "__________________________________________________________________________________________________\n",
      "Layer (type)                    Output Shape         Param #     Connected to                     \n",
      "==================================================================================================\n",
      "input_47 (InputLayer)           (None, 28, 28, 1)    0                                            \n",
      "__________________________________________________________________________________________________\n",
      "input_48 (InputLayer)           (None, 28, 28, 1)    0                                            \n",
      "__________________________________________________________________________________________________\n",
      "conv2d_70 (Conv2D)              (None, 24, 24, 2)    52          input_47[0][0]                   \n",
      "                                                                 input_48[0][0]                   \n",
      "__________________________________________________________________________________________________\n",
      "max_pooling2d_35 (MaxPooling2D) (None, 12, 12, 2)    0           conv2d_70[0][0]                  \n",
      "                                                                 conv2d_70[1][0]                  \n",
      "__________________________________________________________________________________________________\n",
      "conv2d_71 (Conv2D)              (None, 12, 12, 4)    76          max_pooling2d_35[0][0]           \n",
      "                                                                 max_pooling2d_35[1][0]           \n",
      "__________________________________________________________________________________________________\n",
      "max_pooling2d_36 (MaxPooling2D) (None, 6, 6, 4)      0           conv2d_71[0][0]                  \n",
      "                                                                 conv2d_71[1][0]                  \n",
      "__________________________________________________________________________________________________\n",
      "dropout_36 (Dropout)            (None, 6, 6, 4)      0           max_pooling2d_36[0][0]           \n",
      "                                                                 max_pooling2d_36[1][0]           \n",
      "__________________________________________________________________________________________________\n",
      "flatten_22 (Flatten)            (None, 144)          0           dropout_36[0][0]                 \n",
      "                                                                 dropout_36[1][0]                 \n",
      "__________________________________________________________________________________________________\n",
      "dense_88 (Dense)                (None, 128)          18560       flatten_22[0][0]                 \n",
      "                                                                 flatten_22[1][0]                 \n",
      "__________________________________________________________________________________________________\n",
      "concatenate_24 (Concatenate)    (None, 256)          0           dense_88[0][0]                   \n",
      "                                                                 dense_88[1][0]                   \n",
      "__________________________________________________________________________________________________\n",
      "dense_89 (Dense)                (None, 16)           4112        concatenate_24[0][0]             \n",
      "__________________________________________________________________________________________________\n",
      "activation_57 (Activation)      (None, 16)           0           dense_89[0][0]                   \n",
      "__________________________________________________________________________________________________\n",
      "dense_90 (Dense)                (None, 16)           272         activation_57[0][0]              \n",
      "__________________________________________________________________________________________________\n",
      "activation_58 (Activation)      (None, 16)           0           dense_90[0][0]                   \n",
      "__________________________________________________________________________________________________\n",
      "dense_91 (Dense)                (None, 16)           272         activation_58[0][0]              \n",
      "__________________________________________________________________________________________________\n",
      "activation_59 (Activation)      (None, 16)           0           dense_91[0][0]                   \n",
      "__________________________________________________________________________________________________\n",
      "dense_92 (Dense)                (None, 16)           272         activation_59[0][0]              \n",
      "__________________________________________________________________________________________________\n",
      "activation_60 (Activation)      (None, 16)           0           dense_92[0][0]                   \n",
      "__________________________________________________________________________________________________\n",
      "dense_93 (Dense)                (None, 1)            17          activation_60[0][0]              \n",
      "==================================================================================================\n",
      "Total params: 23,633\n",
      "Trainable params: 23,633\n",
      "Non-trainable params: 0\n",
      "__________________________________________________________________________________________________\n"
     ]
    }
   ],
   "source": [
    " \n",
    "# compute is_same_class from two input images\n",
    "left_image_input = Input(shape=(28, 28, 1))\n",
    "right_image_input = Input(shape=(28, 28, 1))\n",
    "left_lsr = compressor_fun(left_image_input)\n",
    "right_lsr = compressor_fun(right_image_input)\n",
    "combined_lsr = concatenate([left_lsr, right_lsr])\n",
    "is_same_class = lsr_compare(combined_lsr) # 1 for images are same class, 0 for different class\n",
    "\n",
    "# define and compile the model\n",
    "model = Model(inputs=[left_image_input, right_image_input], outputs=is_same_class)\n",
    "model.compile(optimizer='adam',\n",
    "              #loss='mse',\n",
    "              loss='binary_crossentropy', \n",
    "                  metrics=['binary_accuracy'])\n",
    "\n",
    "\n",
    "model.summary()"
   ]
  },
  {
   "cell_type": "markdown",
   "metadata": {},
   "source": [
    "# Training"
   ]
  },
  {
   "cell_type": "code",
   "execution_count": 266,
   "metadata": {},
   "outputs": [],
   "source": [
    "training_labels = [0, 1, 2, 3, 4, 5, 6]\n",
    "evaluation_labels = [x for x in range(10) if x not in training_labels]"
   ]
  },
  {
   "cell_type": "code",
   "execution_count": 267,
   "metadata": {},
   "outputs": [],
   "source": [
    "model.reset_states() # so the shown training run is genuine and reproducible"
   ]
  },
  {
   "cell_type": "code",
   "execution_count": 268,
   "metadata": {
    "scrolled": false
   },
   "outputs": [
    {
     "name": "stdout",
     "output_type": "stream",
     "text": [
      "number train:  1666\n",
      "Train on 1666 samples, validate on 286 samples\n",
      "Epoch 1/40\n",
      "1666/1666 [==============================] - 6s 4ms/step - loss: 1.2147 - binary_accuracy: 0.5018 - val_loss: 0.6912 - val_binary_accuracy: 0.5175\n",
      "Epoch 2/40\n",
      "1666/1666 [==============================] - 1s 900us/step - loss: 0.7266 - binary_accuracy: 0.4820 - val_loss: 0.6878 - val_binary_accuracy: 0.5594\n",
      "Epoch 3/40\n",
      "1666/1666 [==============================] - 1s 811us/step - loss: 0.7005 - binary_accuracy: 0.5132 - val_loss: 0.6942 - val_binary_accuracy: 0.5105\n",
      "Epoch 4/40\n",
      "1666/1666 [==============================] - 1s 884us/step - loss: 0.6929 - binary_accuracy: 0.5294 - val_loss: 0.6935 - val_binary_accuracy: 0.5035\n",
      "Epoch 5/40\n",
      "1666/1666 [==============================] - 1s 819us/step - loss: 0.6814 - binary_accuracy: 0.5432 - val_loss: 0.6973 - val_binary_accuracy: 0.5210\n",
      "Epoch 6/40\n",
      "1666/1666 [==============================] - 1s 839us/step - loss: 0.6714 - binary_accuracy: 0.5606 - val_loss: 0.7036 - val_binary_accuracy: 0.4965\n",
      "Epoch 7/40\n",
      "1666/1666 [==============================] - 1s 855us/step - loss: 0.6468 - binary_accuracy: 0.5954 - val_loss: 0.7110 - val_binary_accuracy: 0.5210\n",
      "Epoch 8/40\n",
      "1666/1666 [==============================] - 2s 1ms/step - loss: 0.6414 - binary_accuracy: 0.5876 - val_loss: 0.7028 - val_binary_accuracy: 0.5035\n",
      "Epoch 9/40\n",
      "1666/1666 [==============================] - 1s 846us/step - loss: 0.5995 - binary_accuracy: 0.6363 - val_loss: 0.7192 - val_binary_accuracy: 0.5315\n",
      "Epoch 10/40\n",
      "1666/1666 [==============================] - 1s 856us/step - loss: 0.5503 - binary_accuracy: 0.6987 - val_loss: 0.7584 - val_binary_accuracy: 0.4860\n",
      "Epoch 11/40\n",
      "1666/1666 [==============================] - 1s 824us/step - loss: 0.5378 - binary_accuracy: 0.7161 - val_loss: 0.7240 - val_binary_accuracy: 0.5035\n",
      "Epoch 12/40\n",
      "1666/1666 [==============================] - 2s 1ms/step - loss: 0.5027 - binary_accuracy: 0.7371 - val_loss: 0.7261 - val_binary_accuracy: 0.5385\n",
      "Epoch 13/40\n",
      "1666/1666 [==============================] - 2s 996us/step - loss: 0.4653 - binary_accuracy: 0.7683 - val_loss: 0.7474 - val_binary_accuracy: 0.5210\n",
      "Epoch 14/40\n",
      "1666/1666 [==============================] - 1s 858us/step - loss: 0.4231 - binary_accuracy: 0.7965 - val_loss: 0.7287 - val_binary_accuracy: 0.5699\n",
      "Epoch 15/40\n",
      "1666/1666 [==============================] - 1s 869us/step - loss: 0.4272 - binary_accuracy: 0.8025 - val_loss: 0.7584 - val_binary_accuracy: 0.5490\n",
      "Epoch 16/40\n",
      "1666/1666 [==============================] - 1s 836us/step - loss: 0.3880 - binary_accuracy: 0.8211 - val_loss: 0.7780 - val_binary_accuracy: 0.5699\n",
      "Epoch 17/40\n",
      "1666/1666 [==============================] - 1s 861us/step - loss: 0.3775 - binary_accuracy: 0.8187 - val_loss: 0.6984 - val_binary_accuracy: 0.6189\n",
      "Epoch 18/40\n",
      "1666/1666 [==============================] - 2s 971us/step - loss: 0.3421 - binary_accuracy: 0.8445 - val_loss: 0.7304 - val_binary_accuracy: 0.5839\n",
      "Epoch 19/40\n",
      "1666/1666 [==============================] - 2s 1ms/step - loss: 0.3412 - binary_accuracy: 0.8487 - val_loss: 0.7155 - val_binary_accuracy: 0.6049\n",
      "Epoch 20/40\n",
      "1666/1666 [==============================] - 2s 902us/step - loss: 0.3329 - binary_accuracy: 0.8595 - val_loss: 0.7882 - val_binary_accuracy: 0.5734\n",
      "Epoch 21/40\n",
      "1666/1666 [==============================] - 1s 881us/step - loss: 0.3067 - binary_accuracy: 0.8637 - val_loss: 0.7676 - val_binary_accuracy: 0.5734\n",
      "Epoch 22/40\n",
      "1666/1666 [==============================] - 1s 891us/step - loss: 0.2850 - binary_accuracy: 0.8782 - val_loss: 0.8219 - val_binary_accuracy: 0.5874\n",
      "Epoch 23/40\n",
      "1666/1666 [==============================] - 1s 840us/step - loss: 0.2845 - binary_accuracy: 0.8691 - val_loss: 0.7315 - val_binary_accuracy: 0.6014\n",
      "Epoch 24/40\n",
      "1666/1666 [==============================] - 1s 867us/step - loss: 0.2684 - binary_accuracy: 0.8842 - val_loss: 0.7507 - val_binary_accuracy: 0.6189\n",
      "Epoch 25/40\n",
      "1666/1666 [==============================] - 2s 908us/step - loss: 0.2545 - binary_accuracy: 0.8938 - val_loss: 0.7340 - val_binary_accuracy: 0.6329\n",
      "Epoch 26/40\n",
      "1666/1666 [==============================] - 1s 891us/step - loss: 0.2222 - binary_accuracy: 0.9136 - val_loss: 0.7760 - val_binary_accuracy: 0.6329\n",
      "Epoch 27/40\n",
      "1666/1666 [==============================] - 2s 922us/step - loss: 0.2329 - binary_accuracy: 0.9118 - val_loss: 0.7142 - val_binary_accuracy: 0.6294\n",
      "Epoch 28/40\n",
      "1666/1666 [==============================] - 2s 919us/step - loss: 0.2411 - binary_accuracy: 0.9052 - val_loss: 0.7301 - val_binary_accuracy: 0.6329\n",
      "Epoch 29/40\n",
      "1666/1666 [==============================] - 2s 907us/step - loss: 0.2121 - binary_accuracy: 0.9166 - val_loss: 0.8497 - val_binary_accuracy: 0.5909\n",
      "Epoch 30/40\n",
      "1666/1666 [==============================] - 1s 868us/step - loss: 0.2059 - binary_accuracy: 0.9184 - val_loss: 0.7158 - val_binary_accuracy: 0.6643\n",
      "Epoch 31/40\n",
      "1666/1666 [==============================] - 2s 902us/step - loss: 0.2000 - binary_accuracy: 0.9268 - val_loss: 0.7606 - val_binary_accuracy: 0.6364\n",
      "Epoch 32/40\n",
      "1666/1666 [==============================] - 2s 923us/step - loss: 0.1960 - binary_accuracy: 0.9232 - val_loss: 0.7647 - val_binary_accuracy: 0.6329\n",
      "Epoch 33/40\n",
      "1666/1666 [==============================] - 2s 909us/step - loss: 0.1897 - binary_accuracy: 0.9244 - val_loss: 0.8653 - val_binary_accuracy: 0.6329\n",
      "Epoch 34/40\n",
      "1666/1666 [==============================] - 2s 935us/step - loss: 0.1759 - binary_accuracy: 0.9316 - val_loss: 0.9037 - val_binary_accuracy: 0.6329\n",
      "Epoch 35/40\n",
      "1666/1666 [==============================] - 2s 912us/step - loss: 0.1657 - binary_accuracy: 0.9322 - val_loss: 0.9321 - val_binary_accuracy: 0.6294\n",
      "Epoch 36/40\n",
      "1666/1666 [==============================] - 2s 914us/step - loss: 0.1703 - binary_accuracy: 0.9346 - val_loss: 1.0334 - val_binary_accuracy: 0.6189\n",
      "Epoch 37/40\n",
      "1666/1666 [==============================] - 2s 925us/step - loss: 0.1725 - binary_accuracy: 0.9376 - val_loss: 0.9123 - val_binary_accuracy: 0.6538\n",
      "Epoch 38/40\n",
      "1666/1666 [==============================] - 2s 911us/step - loss: 0.1412 - binary_accuracy: 0.9430 - val_loss: 0.8516 - val_binary_accuracy: 0.7133\n",
      "Epoch 39/40\n",
      "1666/1666 [==============================] - 2s 929us/step - loss: 0.1478 - binary_accuracy: 0.9442 - val_loss: 0.7679 - val_binary_accuracy: 0.7063\n",
      "Epoch 40/40\n",
      "1666/1666 [==============================] - 2s 917us/step - loss: 0.1290 - binary_accuracy: 0.9484 - val_loss: 0.8569 - val_binary_accuracy: 0.6608\n"
     ]
    },
    {
     "data": {
      "text/plain": [
       "<keras.callbacks.History at 0xb51dabe10>"
      ]
     },
     "execution_count": 268,
     "metadata": {},
     "output_type": "execute_result"
    }
   ],
   "source": [
    "n_samples = 1200 # one tenth the dataset, because no gpu\n",
    "left_images, right_images, labels, _ = build_dataset(x_train[:n_samples], \n",
    "                                                  y_train[:n_samples], \n",
    "                                                  training_labels)\n",
    "\n",
    "# validation data\n",
    "validation_left_images, validation_right_images, validation_labels, _ =\\\n",
    "    build_dataset(x_test[:500], y_test[:500], evaluation_labels)\n",
    "\n",
    "model.fit([left_images, right_images], labels, epochs=40, batch_size=200,\n",
    "         validation_data=([validation_left_images, validation_right_images], validation_labels))"
   ]
  },
  {
   "cell_type": "code",
   "execution_count": 348,
   "metadata": {},
   "outputs": [
    {
     "data": {
      "text/plain": [
       "array([[0.00982082],\n",
       "       [0.00606236],\n",
       "       [0.99822634],\n",
       "       [0.06509727],\n",
       "       [0.99939144],\n",
       "       [0.92315745],\n",
       "       [0.22992286],\n",
       "       [0.91837054],\n",
       "       [0.0118261 ],\n",
       "       [0.9199493 ]], dtype=float32)"
      ]
     },
     "execution_count": 348,
     "metadata": {},
     "output_type": "execute_result"
    }
   ],
   "source": [
    "model.predict([left_images[:10], right_images[:10]]) # check that it isn't constant or something"
   ]
  },
  {
   "cell_type": "markdown",
   "metadata": {},
   "source": [
    "# Evaluation "
   ]
  },
  {
   "cell_type": "code",
   "execution_count": 212,
   "metadata": {},
   "outputs": [
    {
     "name": "stdout",
     "output_type": "stream",
     "text": [
      "1666/1666 [==============================] - 4s 3ms/step\n",
      "with same data!! as training, acc =  0.9741896708615545\n"
     ]
    }
   ],
   "source": [
    "# check acc with \n",
    "loss, acc = model.evaluate([left_images, right_images], labels, batch_size=10)\n",
    "print(\"with same data!! as training, acc = \", acc)\n"
   ]
  },
  {
   "cell_type": "code",
   "execution_count": 272,
   "metadata": {},
   "outputs": [
    {
     "name": "stdout",
     "output_type": "stream",
     "text": [
      "714/714 [==============================] - 0s 600us/step\n",
      "with same labels as training, acc =  0.8809523742739894\n",
      "286/286 [==============================] - 0s 701us/step\n",
      "with difff labels as training, acc =  0.5909090990369971\n"
     ]
    }
   ],
   "source": [
    "# check accuracy for same labels\n",
    "left_images, right_images, labels, orignal_labels =\\\n",
    "    build_dataset(x_test[:500], y_test[:500], training_labels)\n",
    "loss, acc = model.evaluate([left_images, right_images], labels, batch_size=10)\n",
    "print(\"with same labels as training, acc = \", acc)\n",
    "\n",
    "# accuracy for different labels, v_ for \"validation\"\n",
    "left_images, right_images, labels, original_labels =\\\n",
    "    build_dataset(x_test[:500], y_test[:500], evaluation_labels)\n",
    "loss, acc = model.evaluate([left_images, right_images], labels, batch_size=10)\n",
    "print(\"with difff labels as training, acc = \", acc)"
   ]
  },
  {
   "cell_type": "markdown",
   "metadata": {},
   "source": [
    "# Training Accuray: 97.4%\n",
    "\n",
    "# Test Accuray: 88.1%\n",
    "\n",
    "# Different Labels Accuray: 59.1%\n",
    "\n",
    "The \"different labels\" task is unusual compared to ordinary ML tasks. The train and test were both only shown digits 0 through 6. The \"different labels\" task was tested only on the label 7, 8, and 9. \n",
    "\n",
    "Another useful task would be where 7, 8, or 9 appear with any possible label, but that can be observed in the confusion matrices."
   ]
  },
  {
   "cell_type": "markdown",
   "metadata": {},
   "source": [
    "# \"Confusion Matrices\"\n",
    "\n",
    "These are no ordinary confusion matrices. I'm actaully a bit skeptical on how they should be interpreted, but here is my best shot."
   ]
  },
  {
   "cell_type": "code",
   "execution_count": 315,
   "metadata": {},
   "outputs": [],
   "source": [
    "# Make a confusion matric, much harder than usual. We'll have to mangle some stuff manually.\n",
    "left_images, right_images, labels, original_labels =\\\n",
    "    build_dataset(x_test[:500], y_test[:500], list(range(10)))\n",
    "\n",
    "predictions = model.predict([left_images, right_images])"
   ]
  },
  {
   "cell_type": "code",
   "execution_count": null,
   "metadata": {},
   "outputs": [],
   "source": [
    "# first, build a dict that takes a tuple of (left_label, right_label) and stores a list of \n",
    "same_but_predicted_different = np.zeros(shape=(10, 10))\n",
    "same_and_predicted_same = np.zeros(shape=(10, 10))\n",
    "different_but_predicted_same = np.zeros(shape=(10, 10))\n",
    "different_and_predicted_different = np.zeros(shape=(10, 10))\n",
    "\n",
    "for prediction, label, (left_image_label, right_image_label) in\\\n",
    "        zip(unpop_dims(predictions), unpop_dims(labels), original_labels):\n",
    "    #print(np.rint(prediction).astype(int), left_image_label, right_image_label, label)\n",
    "    pred_label = np.rint(prediction).astype(int)\n",
    "    if label == 1 and pred_label ==  0: \n",
    "        same_but_predicted_different[left_image_label][right_image_label] += 1\n",
    "    if label == 1 and pred_label ==  1: \n",
    "        same_and_predicted_same[left_image_label][right_image_label] += 1\n",
    "    if label == 0 and pred_label ==  1: \n",
    "        different_but_predicted_same[left_image_label][right_image_label] += 1\n",
    "    if label == 0 and pred_label ==  0:\n",
    "        different_and_predicted_different[left_image_label][right_image_label] += 1"
   ]
  },
  {
   "cell_type": "code",
   "execution_count": 339,
   "metadata": {},
   "outputs": [
    {
     "data": {
      "text/plain": [
       "<matplotlib.image.AxesImage at 0xb54436cc0>"
      ]
     },
     "execution_count": 339,
     "metadata": {},
     "output_type": "execute_result"
    },
    {
     "data": {
      "image/png": "[encoded data removed]",
      "text/plain": [
       "<Figure size 288x288 with 1 Axes>"
      ]
     },
     "metadata": {},
     "output_type": "display_data"
    }
   ],
   "source": [
    "plt.matshow(same_but_predicted_different)"
   ]
  },
  {
   "cell_type": "markdown",
   "metadata": {},
   "source": [
    "## ^ Same but Predicted Different ^\n",
    "\n",
    "The network incorrectly predicted the images were in different image classes, when they were really the same.\n",
    "\n",
    "Notice the hot spot at (7,7), the networks didn't train on 7's and often saw two 7's as not belonging to the same class when they actually were. We'll see lates that it often confuses 7's with 2's."
   ]
  },
  {
   "cell_type": "code",
   "execution_count": 340,
   "metadata": {},
   "outputs": [
    {
     "data": {
      "text/plain": [
       "<matplotlib.image.AxesImage at 0xb544cd6d8>"
      ]
     },
     "execution_count": 340,
     "metadata": {},
     "output_type": "execute_result"
    },
    {
     "data": {
      "image/png": "[encoded data removed]",
      "text/plain": [
       "<Figure size 288x288 with 1 Axes>"
      ]
     },
     "metadata": {},
     "output_type": "display_data"
    }
   ],
   "source": [
    "plt.matshow(same_and_predicted_same)"
   ]
  },
  {
   "cell_type": "markdown",
   "metadata": {},
   "source": [
    "## ^ Same and Predicted Same ^\n",
    "\n",
    "The network correctly predicted the two images were in the same image class. The last three classes are image classes it has never seen before (7, 8, 9), meaning it could look at two 8's and tell accuratly that they were in the same class, even though it had never seen an 8 before. \n",
    "\n",
    "Also the hot spot at (1, 1) indicates it is very good at comparing 1's"
   ]
  },
  {
   "cell_type": "code",
   "execution_count": 341,
   "metadata": {},
   "outputs": [
    {
     "data": {
      "text/plain": [
       "<matplotlib.image.AxesImage at 0xb545a30f0>"
      ]
     },
     "execution_count": 341,
     "metadata": {},
     "output_type": "execute_result"
    },
    {
     "data": {
      "image/png": "[encoded data removed]",
      "text/plain": [
       "<Figure size 288x288 with 1 Axes>"
      ]
     },
     "metadata": {},
     "output_type": "display_data"
    }
   ],
   "source": [
    "plt.matshow(different_but_predicted_same)"
   ]
  },
  {
   "cell_type": "markdown",
   "metadata": {},
   "source": [
    "## ^ Different but Predicted Same ^\n",
    "\n",
    "The network predicted the two images were of the same class, but in fact they were of different classes.\n",
    "\n",
    "The hot spots are at (7, 2), (4, 9) and (5, 9). This means if it saw any of those pairs of numbers, it would often believe they are they same digit. These are reasonable mistakes to make.\n",
    "\n",
    "Notice the high quality area in the rectangle from the top left to the (6,6) square. This is comparing known classes with known classes. Outside of this area, mistakes are more frequent.\n",
    "\n",
    "Also notice that the matrix isn't symmeric across the diagonal. This means that swapping the left and right digit can change what it predicts. This isn't unexpected, and might just be a bias in the data."
   ]
  },
  {
   "cell_type": "code",
   "execution_count": 342,
   "metadata": {},
   "outputs": [
    {
     "data": {
      "text/plain": [
       "<matplotlib.image.AxesImage at 0xb5462eb00>"
      ]
     },
     "execution_count": 342,
     "metadata": {},
     "output_type": "execute_result"
    },
    {
     "data": {
      "image/png": "[encoded data removed]",
      "text/plain": [
       "<Figure size 288x288 with 1 Axes>"
      ]
     },
     "metadata": {},
     "output_type": "display_data"
    }
   ],
   "source": [
    "plt.matshow(different_and_predicted_different)"
   ]
  },
  {
   "cell_type": "markdown",
   "metadata": {},
   "source": [
    "## ^ Different and Predicted Different ^\n",
    "\n",
    "The network correctly predicted that the two images were not in the same class. It is especially accurate between (1, 0), (1, 7), and (1, 2). This is the inverse of the previous plot, and helps highlight accurate spots visually."
   ]
  },
  {
   "cell_type": "code",
   "execution_count": 343,
   "metadata": {},
   "outputs": [],
   "source": [
    "n_correct = same_and_predicted_same + different_and_predicted_different"
   ]
  },
  {
   "cell_type": "code",
   "execution_count": 344,
   "metadata": {},
   "outputs": [],
   "source": [
    "n_incorrect = same_but_predicted_different + different_but_predicted_same"
   ]
  },
  {
   "cell_type": "code",
   "execution_count": 349,
   "metadata": {},
   "outputs": [
    {
     "data": {
      "text/plain": [
       "<matplotlib.image.AxesImage at 0xb547e5a20>"
      ]
     },
     "execution_count": 349,
     "metadata": {},
     "output_type": "execute_result"
    },
    {
     "data": {
      "image/png": "[encoded data removed]",
      "text/plain": [
       "<Figure size 288x288 with 1 Axes>"
      ]
     },
     "metadata": {},
     "output_type": "display_data"
    },
    {
     "data": {
      "image/png": "[encoded data removed]",
      "text/plain": [
       "<Figure size 288x288 with 1 Axes>"
      ]
     },
     "metadata": {},
     "output_type": "display_data"
    }
   ],
   "source": [
    "plt.matshow(n_correct)\n",
    "plt.matshow(n_incorrect)"
   ]
  },
  {
   "cell_type": "markdown",
   "metadata": {},
   "source": [
    "## Sum of correct prediction matrices and incorrect prediction matrices\n",
    "\n",
    "Possibly a more useful form from the 4 different ones above."
   ]
  },
  {
   "cell_type": "markdown",
   "metadata": {},
   "source": [
    "# Conclusion\n",
    "\n",
    "The model can correctly classify within never-before-seen digit classes with 60-70% accuracy, and very little tuning has been done. This technique seems valid, and allows for comparison classification within a meta-class. Here the meta-class learned is \"handwritten digits\", and I would expect an invented digit or even letters would get a somewhat decent accuracy even if it was only trained on digits."
   ]
  }
 ],
 "metadata": {
  "kernelspec": {
   "display_name": "Python 3",
   "language": "python",
   "name": "python3"
  },
  "language_info": {
   "codemirror_mode": {
    "name": "ipython",
    "version": 3
   },
   "file_extension": ".py",
   "mimetype": "text/x-python",
   "name": "python",
   "nbconvert_exporter": "python",
   "pygments_lexer": "ipython3",
   "version": "3.6.7"
  }
 },
 "nbformat": 4,
 "nbformat_minor": 2
}
